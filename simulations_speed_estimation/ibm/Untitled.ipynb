{
 "cells": [
  {
   "cell_type": "code",
   "execution_count": 1,
   "id": "a4eecb25",
   "metadata": {},
   "outputs": [],
   "source": [
    "import sympy"
   ]
  },
  {
   "cell_type": "code",
   "execution_count": 2,
   "id": "8a947583",
   "metadata": {},
   "outputs": [],
   "source": [
    "from sympy import *"
   ]
  },
  {
   "cell_type": "code",
   "execution_count": 3,
   "id": "8496d1c4",
   "metadata": {},
   "outputs": [],
   "source": [
    "init_printing(use_unicode=True)"
   ]
  },
  {
   "cell_type": "code",
   "execution_count": 8,
   "id": "60e4e4fd",
   "metadata": {},
   "outputs": [],
   "source": [
    "x, s, d = symbols('x s d')"
   ]
  },
  {
   "cell_type": "code",
   "execution_count": 7,
   "id": "502bd869",
   "metadata": {},
   "outputs": [
    {
     "data": {
      "image/png": "[encoded data removed]",
      "text/latex": [
       "$\\displaystyle - \\frac{1.0}{x}$"
      ],
      "text/plain": [
       "-1.0 \n",
       "─────\n",
       "  x  "
      ]
     },
     "execution_count": 7,
     "metadata": {},
     "output_type": "execute_result"
    }
   ],
   "source": [
    "diff(-1/2*log(2*pi*x**2*s),x)"
   ]
  },
  {
   "cell_type": "code",
   "execution_count": 10,
   "id": "811a5ed4",
   "metadata": {},
   "outputs": [
    {
     "data": {
      "image/png": "[encoded data removed]",
      "text/latex": [
       "$\\displaystyle \\frac{1.0 d^{2}}{s x^{3}}$"
      ],
      "text/plain": [
       "     2\n",
       "1.0⋅d \n",
       "──────\n",
       "    3 \n",
       " s⋅x  "
      ]
     },
     "execution_count": 10,
     "metadata": {},
     "output_type": "execute_result"
    }
   ],
   "source": [
    "diff(-1/2*(d**2/(x**2*s)),x)"
   ]
  }
 ],
 "metadata": {
  "kernelspec": {
   "display_name": "Python 3 (ipykernel)",
   "language": "python",
   "name": "python3"
  },
  "language_info": {
   "codemirror_mode": {
    "name": "ipython",
    "version": 3
   },
   "file_extension": ".py",
   "mimetype": "text/x-python",
   "name": "python",
   "nbconvert_exporter": "python",
   "pygments_lexer": "ipython3",
   "version": "3.11.4"
  }
 },
 "nbformat": 4,
 "nbformat_minor": 5
}
